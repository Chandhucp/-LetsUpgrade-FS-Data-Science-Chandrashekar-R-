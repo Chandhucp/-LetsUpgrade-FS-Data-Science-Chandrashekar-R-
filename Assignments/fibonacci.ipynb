{
 "cells": [
  {
   "cell_type": "markdown",
   "id": "c9c83248",
   "metadata": {},
   "source": [
    "###Create a generator to find out the sum of squares of numbers in fibonacci seq"
   ]
  },
  {
   "cell_type": "code",
   "execution_count": 1,
   "id": "32654a60",
   "metadata": {},
   "outputs": [
    {
     "name": "stdout",
     "output_type": "stream",
     "text": [
      "0\n",
      "1\n",
      "1\n",
      "4\n",
      "9\n",
      "25\n",
      "64\n",
      "169\n",
      "441\n",
      "1156\n",
      "3025\n",
      "7921\n",
      "sum of all squares  12816\n"
     ]
    }
   ],
   "source": [
    "sum=0\n",
    "\n",
    "n=100\n",
    "def fb():\n",
    "    x,y = 0,1\n",
    "    while True:\n",
    "        yield x\n",
    "        x,y = y,x+y\n",
    "        \n",
    "for i in fb():\n",
    "    if i>n:\n",
    "        break\n",
    "    square = i**2\n",
    "    print(square)\n",
    "    sum = sum + square\n",
    "\n",
    "print(\"sum of all squares \", sum)"
   ]
  },
  {
   "cell_type": "code",
   "execution_count": null,
   "id": "53d19640",
   "metadata": {},
   "outputs": [],
   "source": []
  }
 ],
 "metadata": {
  "kernelspec": {
   "display_name": "Python 3",
   "language": "python",
   "name": "python3"
  },
  "language_info": {
   "codemirror_mode": {
    "name": "ipython",
    "version": 3
   },
   "file_extension": ".py",
   "mimetype": "text/x-python",
   "name": "python",
   "nbconvert_exporter": "python",
   "pygments_lexer": "ipython3",
   "version": "3.8.8"
  }
 },
 "nbformat": 4,
 "nbformat_minor": 5
}
