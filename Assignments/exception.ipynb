{
 "cells": [
  {
   "cell_type": "markdown",
   "id": "96746453",
   "metadata": {},
   "source": [
    "##write a function that converts a temperature from degrees Kelvin to degrees Fahrenheit. Since zero degrees Kelvin is as cold as it gets, the function bails out if it sees a negative temperature.\n",
    "\n",
    "Write a exception in this case"
   ]
  },
  {
   "cell_type": "code",
   "execution_count": 1,
   "id": "41c83f80",
   "metadata": {},
   "outputs": [],
   "source": [
    "celsius = 25\n",
    "Fahrenheit = (celsius * 1.8) + 32"
   ]
  },
  {
   "cell_type": "code",
   "execution_count": 2,
   "id": "dfc9d0c0",
   "metadata": {},
   "outputs": [
    {
     "name": "stdout",
     "output_type": "stream",
     "text": [
      "-13.0\n"
     ]
    }
   ],
   "source": [
    "c = -25\n",
    "F = (c*1.8)+32\n",
    "print(F)"
   ]
  },
  {
   "cell_type": "code",
   "execution_count": 9,
   "id": "6f08c17e",
   "metadata": {},
   "outputs": [
    {
     "name": "stdout",
     "output_type": "stream",
     "text": [
      "Enter the degree in celcius:  56\n",
      "Pass\n"
     ]
    }
   ],
   "source": [
    "celcius = int(input(\"Enter the degree in celcius:  \"))\n",
    "cut_off = 0\n",
    "\n",
    "\n",
    "score = (celcius * 1.8) + 32\n",
    "\n",
    "try: \n",
    "    if score>=cut_off:\n",
    "        print(\"Pass\")\n",
    "    else:\n",
    "        raise cutoffException\n",
    "except cutoffException:\n",
    "    print(\"Re-attempt\")"
   ]
  },
  {
   "cell_type": "code",
   "execution_count": 6,
   "id": "72f0e385",
   "metadata": {},
   "outputs": [
    {
     "name": "stdout",
     "output_type": "stream",
     "text": [
      "Enter the degree in kelvin:  55\n",
      "-360.67\n",
      "feranhit value is negative\n"
     ]
    }
   ],
   "source": [
    "kelvin = int(input(\"Enter the degree in kelvin:  \"))\n",
    "cut_off = 0\n",
    "def kelvinToFahrenheit(kelvin):\n",
    "    return kelvin * 1.8 - 459.67\n",
    "far = kelvinToFahrenheit(kelvin)\n",
    " \n",
    "print(far)\n",
    "\n",
    "try: \n",
    "    if far<=cut_off:\n",
    "        print(\"feranhit value is negative\")\n",
    "    else:\n",
    "        raise cutoffException\n",
    "except cutoffException:\n",
    "    print(\"Re-attempt\")"
   ]
  },
  {
   "cell_type": "code",
   "execution_count": 8,
   "id": "a98d82dc",
   "metadata": {},
   "outputs": [
    {
     "name": "stdout",
     "output_type": "stream",
     "text": [
      "-319.45\n"
     ]
    }
   ],
   "source": [
    "def kelvinToFahrenheit(kelvin):\n",
    "    return kelvin * 1.8 - 459.67\n",
    " \n",
    " \n",
    "kelvin = 77.9\n",
    "fahrenheit = kelvinToFahrenheit(kelvin)\n",
    " \n",
    "print(fahrenheit)"
   ]
  },
  {
   "cell_type": "code",
   "execution_count": null,
   "id": "23a891ff",
   "metadata": {},
   "outputs": [],
   "source": []
  }
 ],
 "metadata": {
  "kernelspec": {
   "display_name": "Python 3",
   "language": "python",
   "name": "python3"
  },
  "language_info": {
   "codemirror_mode": {
    "name": "ipython",
    "version": 3
   },
   "file_extension": ".py",
   "mimetype": "text/x-python",
   "name": "python",
   "nbconvert_exporter": "python",
   "pygments_lexer": "ipython3",
   "version": "3.8.8"
  }
 },
 "nbformat": 4,
 "nbformat_minor": 5
}
