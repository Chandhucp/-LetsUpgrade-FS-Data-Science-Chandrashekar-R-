{
 "cells": [
  {
   "cell_type": "markdown",
   "id": "a34df497",
   "metadata": {},
   "source": [
    "###Create a parent class called 'person' and define with attributes like name, empid...create a child class called 'employee' with added features like designation, salary etc...create a object variable for the child class and call any of the function defined under parent class 'person'"
   ]
  },
  {
   "cell_type": "code",
   "execution_count": 1,
   "id": "479ef26c",
   "metadata": {},
   "outputs": [
    {
     "name": "stdout",
     "output_type": "stream",
     "text": [
      "my name and id\n"
     ]
    },
    {
     "data": {
      "text/plain": [
       "25000"
      ]
     },
     "execution_count": 1,
     "metadata": {},
     "output_type": "execute_result"
    }
   ],
   "source": [
    "class Person:\n",
    "    def __init__(self, name, employeeID):\n",
    "        self.name = name  \n",
    "        self.employeeID = employeeID      \n",
    "        \n",
    "    def p1(self):\n",
    "        print('my name and id')\n",
    "        \n",
    "class employee(Person):\n",
    "    def __init__(self, designation,salary):\n",
    "        self.designation = designation\n",
    "        self.salary = salary\n",
    "        \n",
    "    def e1(self):\n",
    "        print('designation and salary')\n",
    "    \n",
    "E1=employee('assistant',25000)\n",
    "E1.p1()\n",
    "per=Person('moni', 123456)\n",
    "per.name\n",
    "per.employeeID\n",
    "E1.salary"
   ]
  },
  {
   "cell_type": "code",
   "execution_count": null,
   "id": "9dc63550",
   "metadata": {},
   "outputs": [],
   "source": []
  }
 ],
 "metadata": {
  "kernelspec": {
   "display_name": "Python 3",
   "language": "python",
   "name": "python3"
  },
  "language_info": {
   "codemirror_mode": {
    "name": "ipython",
    "version": 3
   },
   "file_extension": ".py",
   "mimetype": "text/x-python",
   "name": "python",
   "nbconvert_exporter": "python",
   "pygments_lexer": "ipython3",
   "version": "3.8.8"
  }
 },
 "nbformat": 4,
 "nbformat_minor": 5
}
